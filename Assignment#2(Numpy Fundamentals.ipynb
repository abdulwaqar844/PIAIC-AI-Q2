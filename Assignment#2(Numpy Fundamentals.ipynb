{
  "nbformat": 4,
  "nbformat_minor": 0,
  "metadata": {
    "kernelspec": {
      "display_name": "Python 3",
      "language": "python",
      "name": "python3"
    },
    "language_info": {
      "codemirror_mode": {
        "name": "ipython",
        "version": 3
      },
      "file_extension": ".py",
      "mimetype": "text/x-python",
      "name": "python",
      "nbconvert_exporter": "python",
      "pygments_lexer": "ipython3",
      "version": "3.7.6"
    },
    "colab": {
      "name": "Assignment#2(Numpy Fundamentals.ipynb",
      "provenance": [],
      "toc_visible": true
    }
  },
  "cells": [
    {
      "cell_type": "markdown",
      "metadata": {
        "id": "Le7lLOux0WLU"
      },
      "source": [
        "# Numpy_Assignment_2::"
      ]
    },
    {
      "cell_type": "markdown",
      "metadata": {
        "id": "KDc2ADax0WLc"
      },
      "source": [
        "## Question:1"
      ]
    },
    {
      "cell_type": "markdown",
      "metadata": {
        "id": "zKOY9_Gb0WLd"
      },
      "source": [
        "### Convert a 1D array to a 2D array with 2 rows?"
      ]
    },
    {
      "cell_type": "markdown",
      "metadata": {
        "id": "DJUlVYrD0WLe"
      },
      "source": [
        "#### Desired output::"
      ]
    },
    {
      "cell_type": "markdown",
      "metadata": {
        "id": "mUP-gcUd0WLe"
      },
      "source": [
        "array([[0, 1, 2, 3, 4],\n",
        "        [5, 6, 7, 8, 9]])"
      ]
    },
    {
      "cell_type": "code",
      "metadata": {
        "id": "hwjI5hTl0WLf",
        "outputId": "e558ef82-cb7d-4c10-d65c-c63f5e13330f"
      },
      "source": [
        "import numpy as np\n",
        "arr=np.array([0, 1, 2, 3, 4, 5, 6, 7, 8, 9])\n",
        "arr2d=arr.reshape(2,5)\n",
        "arr2d"
      ],
      "execution_count": null,
      "outputs": [
        {
          "output_type": "execute_result",
          "data": {
            "text/plain": [
              "array([[0, 1, 2, 3, 4],\n",
              "       [5, 6, 7, 8, 9]])"
            ]
          },
          "metadata": {
            "tags": []
          },
          "execution_count": 6
        }
      ]
    },
    {
      "cell_type": "markdown",
      "metadata": {
        "id": "CRKu2z570WLh"
      },
      "source": [
        "## Question:2"
      ]
    },
    {
      "cell_type": "markdown",
      "metadata": {
        "id": "QBvgyCFI0WLh"
      },
      "source": [
        "###  How to stack two arrays vertically?"
      ]
    },
    {
      "cell_type": "markdown",
      "metadata": {
        "id": "uGBfgwhe0WLh"
      },
      "source": [
        "#### Desired Output::"
      ]
    },
    {
      "cell_type": "markdown",
      "metadata": {
        "id": "ObOoHLO50WLi"
      },
      "source": [
        "array([[0, 1, 2, 3, 4],\n",
        "        [5, 6, 7, 8, 9],\n",
        "       [1, 1, 1, 1, 1],\n",
        "       [1, 1, 1, 1, 1]])"
      ]
    },
    {
      "cell_type": "code",
      "metadata": {
        "id": "Iod9qaZZ0WLi",
        "outputId": "9c2f303e-c275-4482-a27f-e56101284b8e"
      },
      "source": [
        "arr1=np.array([[0, 1, 2, 3, 4],[5, 6, 7, 8, 9]])\n",
        "arr2=np.array([[1, 1, 1, 1, 1],[1, 1, 1, 1, 1]])\n",
        "np.vstack((arr1,arr2))"
      ],
      "execution_count": null,
      "outputs": [
        {
          "output_type": "execute_result",
          "data": {
            "text/plain": [
              "array([[0, 1, 2, 3, 4],\n",
              "       [5, 6, 7, 8, 9],\n",
              "       [1, 1, 1, 1, 1],\n",
              "       [1, 1, 1, 1, 1]])"
            ]
          },
          "metadata": {
            "tags": []
          },
          "execution_count": 89
        }
      ]
    },
    {
      "cell_type": "markdown",
      "metadata": {
        "id": "lh95J7Ne0WLj"
      },
      "source": [
        "## Question:3"
      ]
    },
    {
      "cell_type": "markdown",
      "metadata": {
        "id": "QtpUa51V0WLk"
      },
      "source": [
        "### How to stack two arrays horizontally?"
      ]
    },
    {
      "cell_type": "markdown",
      "metadata": {
        "id": "78fouyHR0WLl"
      },
      "source": [
        "#### Desired Output::"
      ]
    },
    {
      "cell_type": "markdown",
      "metadata": {
        "id": "E6XawtZH0WLl"
      },
      "source": [
        "array([[0, 1, 2, 3, 4, 1, 1, 1, 1, 1],\n",
        "       [5, 6, 7, 8, 9, 1, 1, 1, 1, 1]])"
      ]
    },
    {
      "cell_type": "code",
      "metadata": {
        "id": "vC_rhUFj0WLl",
        "outputId": "83d71d4e-bf25-4a0b-b46d-a81974703f16"
      },
      "source": [
        "arr1=np.array([[0, 1, 2, 3, 4],[5, 6, 7, 8, 9]])\n",
        "arr2=np.array([[1, 1, 1, 1, 1],[1, 1, 1, 1, 1]])\n",
        "np.hstack((arr1,arr2))"
      ],
      "execution_count": null,
      "outputs": [
        {
          "output_type": "execute_result",
          "data": {
            "text/plain": [
              "array([[0, 1, 2, 3, 4, 1, 1, 1, 1, 1],\n",
              "       [5, 6, 7, 8, 9, 1, 1, 1, 1, 1]])"
            ]
          },
          "metadata": {
            "tags": []
          },
          "execution_count": 90
        }
      ]
    },
    {
      "cell_type": "markdown",
      "metadata": {
        "id": "VxmdTg4r0WLm"
      },
      "source": [
        "## Question:4"
      ]
    },
    {
      "cell_type": "markdown",
      "metadata": {
        "id": "_KBi-kmC0WLm"
      },
      "source": [
        "### How to convert an array of arrays into a flat 1d array?"
      ]
    },
    {
      "cell_type": "markdown",
      "metadata": {
        "id": "s3U_Fd-U0WLm"
      },
      "source": [
        "#### Desired Output::"
      ]
    },
    {
      "cell_type": "markdown",
      "metadata": {
        "id": "4-SDuhEO0WLn"
      },
      "source": [
        "array([0, 1, 2, 3, 4, 5, 6, 7, 8, 9])"
      ]
    },
    {
      "cell_type": "code",
      "metadata": {
        "id": "rF4UswvC0WLn",
        "outputId": "5ee0f936-4a6a-4dd1-8312-0768117349cf"
      },
      "source": [
        "arr4=np.array([[0, 1, 2, 3, 4], [5, 6, 7, 8, 9]])\n",
        "arr4.flatten()"
      ],
      "execution_count": null,
      "outputs": [
        {
          "output_type": "execute_result",
          "data": {
            "text/plain": [
              "array([0, 1, 2, 3, 4, 5, 6, 7, 8, 9])"
            ]
          },
          "metadata": {
            "tags": []
          },
          "execution_count": 82
        }
      ]
    },
    {
      "cell_type": "markdown",
      "metadata": {
        "id": "L_DmIx8f0WLn"
      },
      "source": [
        "## Question:5"
      ]
    },
    {
      "cell_type": "markdown",
      "metadata": {
        "id": "OA_HT5L90WLo"
      },
      "source": [
        "### How to Convert higher dimension into one dimension?"
      ]
    },
    {
      "cell_type": "markdown",
      "metadata": {
        "id": "SDAMIme00WLo"
      },
      "source": [
        "#### Desired Output::"
      ]
    },
    {
      "cell_type": "markdown",
      "metadata": {
        "id": "fD0fWuFA0WLo"
      },
      "source": [
        "array([ 0, 1, 2, 3, 4, 5, 6, 7, 8, 9, 10, 11, 12, 13, 14])"
      ]
    },
    {
      "cell_type": "code",
      "metadata": {
        "id": "D_fZimAe0WLo",
        "outputId": "2e29fbb8-8203-43cb-ec46-77154df4e723"
      },
      "source": [
        "arr5=np.array([[ 0, 1, 2],[ 3, 4, 5],[ 6, 7, 8],[ 9, 10, 11],[12, 13, 14]])\n",
        "arr5.ravel()"
      ],
      "execution_count": null,
      "outputs": [
        {
          "output_type": "execute_result",
          "data": {
            "text/plain": [
              "array([ 0,  1,  2,  3,  4,  5,  6,  7,  8,  9, 10, 11, 12, 13, 14])"
            ]
          },
          "metadata": {
            "tags": []
          },
          "execution_count": 75
        }
      ]
    },
    {
      "cell_type": "markdown",
      "metadata": {
        "id": "_MHTctjO0WLp"
      },
      "source": [
        "## Question:6"
      ]
    },
    {
      "cell_type": "markdown",
      "metadata": {
        "id": "qKUf9-XW0WLp"
      },
      "source": [
        "### Convert one dimension to higher dimension?"
      ]
    },
    {
      "cell_type": "markdown",
      "metadata": {
        "id": "tSTDmOLt0WLp"
      },
      "source": [
        "#### Desired Output::"
      ]
    },
    {
      "cell_type": "markdown",
      "metadata": {
        "id": "6wPZUV570WLq"
      },
      "source": [
        "array([[ 0, 1, 2],\n",
        "[ 3, 4, 5],\n",
        "[ 6, 7, 8],\n",
        "[ 9, 10, 11],\n",
        "[12, 13, 14]])"
      ]
    },
    {
      "cell_type": "code",
      "metadata": {
        "id": "bo96vlXg0WLq",
        "outputId": "055251c2-082f-4478-ab00-450be067ee1b"
      },
      "source": [
        "arr6=np.array([ 0, 1, 2,3, 4, 5, 6, 7, 8, 9, 10, 11,12, 13, 14])\n",
        "arr6.reshape(5,3)"
      ],
      "execution_count": null,
      "outputs": [
        {
          "output_type": "execute_result",
          "data": {
            "text/plain": [
              "array([[ 0,  1,  2],\n",
              "       [ 3,  4,  5],\n",
              "       [ 6,  7,  8],\n",
              "       [ 9, 10, 11],\n",
              "       [12, 13, 14]])"
            ]
          },
          "metadata": {
            "tags": []
          },
          "execution_count": 67
        }
      ]
    },
    {
      "cell_type": "markdown",
      "metadata": {
        "id": "zRLR1NQ40WLq"
      },
      "source": [
        "## Question:7"
      ]
    },
    {
      "cell_type": "markdown",
      "metadata": {
        "id": "yCrel5pF0WLr"
      },
      "source": [
        "### Create 5x5 an array and find the square of an array?"
      ]
    },
    {
      "cell_type": "code",
      "metadata": {
        "id": "KSkjBsE40WLr",
        "outputId": "420bc10a-19ba-4fe5-d050-f7d494ebc901"
      },
      "source": [
        "arr7=np.random.randn(5,5)\n",
        "sqrt=np.square(arr7)\n",
        "sqrt"
      ],
      "execution_count": null,
      "outputs": [
        {
          "output_type": "execute_result",
          "data": {
            "text/plain": [
              "array([[9.27088318e-01, 2.19195043e-01, 5.88334964e-01, 2.46212213e+00,\n",
              "        1.58524841e-01],\n",
              "       [2.54976586e-03, 3.01124005e-01, 1.01152666e+00, 6.98711585e-01,\n",
              "        4.59367569e-01],\n",
              "       [2.28353710e-01, 3.92305335e-02, 4.06655226e-01, 3.32666710e+00,\n",
              "        3.15719776e-04],\n",
              "       [1.83707867e+00, 4.69334675e-01, 1.36795265e+00, 2.32222152e-03,\n",
              "        1.12105807e-01],\n",
              "       [2.02974350e-01, 1.70927506e+00, 2.53010602e-01, 5.04867217e-01,\n",
              "        5.75901453e-01]])"
            ]
          },
          "metadata": {
            "tags": []
          },
          "execution_count": 64
        }
      ]
    },
    {
      "cell_type": "markdown",
      "metadata": {
        "id": "TdKmAACB0WLr"
      },
      "source": [
        "## Question:8"
      ]
    },
    {
      "cell_type": "markdown",
      "metadata": {
        "id": "PoW6_bvD0WLs"
      },
      "source": [
        "### Create 5x6 an array and find the mean?"
      ]
    },
    {
      "cell_type": "code",
      "metadata": {
        "id": "j3vWLE6q0WLs",
        "outputId": "d3ee95d4-1b77-43fc-e229-11e07bc39e6e"
      },
      "source": [
        "arr=np.random.randn(5,6)\n",
        "mean=np.mean(arr)\n",
        "mean"
      ],
      "execution_count": null,
      "outputs": [
        {
          "output_type": "execute_result",
          "data": {
            "text/plain": [
              "-0.03654541736695785"
            ]
          },
          "metadata": {
            "tags": []
          },
          "execution_count": 22
        }
      ]
    },
    {
      "cell_type": "markdown",
      "metadata": {
        "id": "VdSMUumK0WLs"
      },
      "source": [
        "## Question:9"
      ]
    },
    {
      "cell_type": "markdown",
      "metadata": {
        "id": "S76aRCtq0WLs"
      },
      "source": [
        "### Find the standard deviation of the previous array in Q8?"
      ]
    },
    {
      "cell_type": "code",
      "metadata": {
        "id": "rofpWWCJ0WLt",
        "outputId": "dedf4880-8bbb-49f9-d94e-db73f3caccce"
      },
      "source": [
        "stnddev=arr.std()\n",
        "stnddev"
      ],
      "execution_count": null,
      "outputs": [
        {
          "output_type": "execute_result",
          "data": {
            "text/plain": [
              "1.2598108575668507"
            ]
          },
          "metadata": {
            "tags": []
          },
          "execution_count": 24
        }
      ]
    },
    {
      "cell_type": "markdown",
      "metadata": {
        "id": "9Ulh_PMV0WLt"
      },
      "source": [
        "## Question:10"
      ]
    },
    {
      "cell_type": "markdown",
      "metadata": {
        "id": "XZNaFY0V0WLt"
      },
      "source": [
        "### Find the median of the previous array in Q8?"
      ]
    },
    {
      "cell_type": "code",
      "metadata": {
        "id": "S4-FG1Xt0WLu",
        "outputId": "bfd06b32-8e76-48e5-9958-e301a83782c0"
      },
      "source": [
        "med=np.median(arr)\n",
        "arr"
      ],
      "execution_count": null,
      "outputs": [
        {
          "output_type": "execute_result",
          "data": {
            "text/plain": [
              "array([[ 1.70148081, -0.65721745, -0.64564202, -2.13780993, -1.00012183,\n",
              "         0.59669128],\n",
              "       [-0.73724482, -1.32666042, -2.55946771, -0.37168347,  1.35906016,\n",
              "         0.65346506],\n",
              "       [-1.30027753,  1.10766452,  1.32185823,  2.03653549,  0.27817839,\n",
              "         1.20491481],\n",
              "       [-2.31519528,  0.80752549,  0.19797973, -0.50098051, -0.65211888,\n",
              "        -1.36811291],\n",
              "       [ 0.94131779,  1.56147378,  0.62027997,  1.53777499, -1.29540351,\n",
              "        -0.15462676]])"
            ]
          },
          "metadata": {
            "tags": []
          },
          "execution_count": 34
        }
      ]
    },
    {
      "cell_type": "markdown",
      "metadata": {
        "id": "fe9QGuiX0WLu"
      },
      "source": [
        "## Question:11"
      ]
    },
    {
      "cell_type": "markdown",
      "metadata": {
        "id": "KxpJSEcE0WLu"
      },
      "source": [
        "### Find the transpose of the previous array in Q8?"
      ]
    },
    {
      "cell_type": "code",
      "metadata": {
        "id": "Uy3n09_90WLu",
        "outputId": "264f24fa-843d-4e2a-9c7b-827be5adfffb"
      },
      "source": [
        "arr.T"
      ],
      "execution_count": null,
      "outputs": [
        {
          "output_type": "execute_result",
          "data": {
            "text/plain": [
              "array([[ 1.70148081, -0.73724482, -1.30027753, -2.31519528,  0.94131779],\n",
              "       [-0.65721745, -1.32666042,  1.10766452,  0.80752549,  1.56147378],\n",
              "       [-0.64564202, -2.55946771,  1.32185823,  0.19797973,  0.62027997],\n",
              "       [-2.13780993, -0.37168347,  2.03653549, -0.50098051,  1.53777499],\n",
              "       [-1.00012183,  1.35906016,  0.27817839, -0.65211888, -1.29540351],\n",
              "       [ 0.59669128,  0.65346506,  1.20491481, -1.36811291, -0.15462676]])"
            ]
          },
          "metadata": {
            "tags": []
          },
          "execution_count": 35
        }
      ]
    },
    {
      "cell_type": "markdown",
      "metadata": {
        "id": "lWSvD-Ka0WLv"
      },
      "source": [
        "## Question:12"
      ]
    },
    {
      "cell_type": "markdown",
      "metadata": {
        "id": "1l1Cejfv0WLv"
      },
      "source": [
        "### Create a 4x4 an array and find the sum of diagonal elements?"
      ]
    },
    {
      "cell_type": "code",
      "metadata": {
        "id": "_YhCe0MX0WLv",
        "outputId": "dc112846-2749-439d-8e1f-3d7b5788c6fd"
      },
      "source": [
        "import numpy as np\n",
        "arr=np.random.randn(4,4)\n",
        "dsum=arr.trace()\n",
        "dsum"
      ],
      "execution_count": null,
      "outputs": [
        {
          "output_type": "execute_result",
          "data": {
            "text/plain": [
              "-2.013754254869264"
            ]
          },
          "metadata": {
            "tags": []
          },
          "execution_count": 92
        }
      ]
    },
    {
      "cell_type": "markdown",
      "metadata": {
        "id": "7m1LxNIN0WLw"
      },
      "source": [
        "## Question:13"
      ]
    },
    {
      "cell_type": "markdown",
      "metadata": {
        "id": "uU8URoNx0WLw"
      },
      "source": [
        "### Find the determinant of the previous array in Q12?"
      ]
    },
    {
      "cell_type": "code",
      "metadata": {
        "id": "pQd_fwq20WLw",
        "outputId": "f45044ef-7fa8-44c3-85ad-163a5baa598e"
      },
      "source": [
        "import numpy as np\n",
        "arr=np.random.randn(4,4)\n",
        "np.linalg.det(arr) "
      ],
      "execution_count": null,
      "outputs": [
        {
          "output_type": "execute_result",
          "data": {
            "text/plain": [
              "0.18193918623387734"
            ]
          },
          "metadata": {
            "tags": []
          },
          "execution_count": 103
        }
      ]
    },
    {
      "cell_type": "markdown",
      "metadata": {
        "id": "xLzz5-Ri0WLy"
      },
      "source": [
        "## Question:14"
      ]
    },
    {
      "cell_type": "markdown",
      "metadata": {
        "id": "SEZezVL_0WLz"
      },
      "source": [
        "### Find the 5th and 95th percentile of an array?"
      ]
    },
    {
      "cell_type": "code",
      "metadata": {
        "id": "KHKxgyoc0WLz",
        "outputId": "7a42ae37-3bbe-43bc-9259-2573b5b9324f"
      },
      "source": [
        "per_5=np.percentile(arr,5)\n",
        "per_5"
      ],
      "execution_count": null,
      "outputs": [
        {
          "output_type": "execute_result",
          "data": {
            "text/plain": [
              "-1.7678954463117675"
            ]
          },
          "metadata": {
            "tags": []
          },
          "execution_count": 104
        }
      ]
    },
    {
      "cell_type": "code",
      "metadata": {
        "id": "bq9yTDWn0WLz",
        "outputId": "404c7705-077f-4e24-8e98-ecdfa26434ec"
      },
      "source": [
        "per_95=np.percentile(arr,95)\n",
        "per_95"
      ],
      "execution_count": null,
      "outputs": [
        {
          "output_type": "execute_result",
          "data": {
            "text/plain": [
              "1.2530825506514527"
            ]
          },
          "metadata": {
            "tags": []
          },
          "execution_count": 105
        }
      ]
    },
    {
      "cell_type": "markdown",
      "metadata": {
        "id": "963yPvr40WL0"
      },
      "source": [
        "## Question:15"
      ]
    },
    {
      "cell_type": "markdown",
      "metadata": {
        "id": "Wu1iXqSb0WL0"
      },
      "source": [
        "### How to find if a given array has any null values?"
      ]
    },
    {
      "cell_type": "code",
      "metadata": {
        "id": "M0gc7OMG0WL0"
      },
      "source": [
        ""
      ],
      "execution_count": null,
      "outputs": []
    }
  ]
}